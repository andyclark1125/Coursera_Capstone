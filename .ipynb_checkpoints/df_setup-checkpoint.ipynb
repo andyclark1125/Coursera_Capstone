{
 "cells": [
  {
   "cell_type": "markdown",
   "metadata": {},
   "source": [
    "## Import the data and explore and clean thedata set"
   ]
  },
  {
   "cell_type": "code",
   "execution_count": 2,
   "metadata": {},
   "outputs": [
    {
     "name": "stderr",
     "output_type": "stream",
     "text": [
      "C:\\Users\\andyclark\\Anaconda3\\lib\\site-packages\\IPython\\core\\interactiveshell.py:3063: DtypeWarning: Columns (33) have mixed types.Specify dtype option on import or set low_memory=False.\n",
      "  interactivity=interactivity, compiler=compiler, result=result)\n"
     ]
    },
    {
     "data": {
      "text/plain": [
       "(194673, 37)"
      ]
     },
     "execution_count": 2,
     "metadata": {},
     "output_type": "execute_result"
    }
   ],
   "source": [
    "import pandas as pd\n",
    "import numpy as np\n",
    "\n",
    "df = pd.read_csv('C:/coursera/ibm data science/capstone/Data-Collisions.csv', index_col = 0)\n",
    "\n",
    "df.shape"
   ]
  },
  {
   "cell_type": "code",
   "execution_count": 3,
   "metadata": {},
   "outputs": [
    {
     "data": {
      "text/plain": [
       "Index(['X', 'Y', 'OBJECTID', 'INCKEY', 'COLDETKEY', 'REPORTNO', 'STATUS',\n",
       "       'ADDRTYPE', 'INTKEY', 'LOCATION', 'EXCEPTRSNCODE', 'EXCEPTRSNDESC',\n",
       "       'SEVERITYCODE.1', 'SEVERITYDESC', 'COLLISIONTYPE', 'PERSONCOUNT',\n",
       "       'PEDCOUNT', 'PEDCYLCOUNT', 'VEHCOUNT', 'INCDATE', 'INCDTTM',\n",
       "       'JUNCTIONTYPE', 'SDOT_COLCODE', 'SDOT_COLDESC', 'INATTENTIONIND',\n",
       "       'UNDERINFL', 'WEATHER', 'ROADCOND', 'LIGHTCOND', 'PEDROWNOTGRNT',\n",
       "       'SDOTCOLNUM', 'SPEEDING', 'ST_COLCODE', 'ST_COLDESC', 'SEGLANEKEY',\n",
       "       'CROSSWALKKEY', 'HITPARKEDCAR'],\n",
       "      dtype='object')"
      ]
     },
     "execution_count": 3,
     "metadata": {},
     "output_type": "execute_result"
    }
   ],
   "source": [
    "df.columns"
   ]
  },
  {
   "cell_type": "markdown",
   "metadata": {},
   "source": [
    "# Create a copy of original data set then remove unnecessary columns"
   ]
  },
  {
   "cell_type": "code",
   "execution_count": 4,
   "metadata": {},
   "outputs": [],
   "source": [
    "df1 = df.copy()\n",
    "df1.drop(['OBJECTID','INCKEY','COLDETKEY','REPORTNO','STATUS','ADDRTYPE','INTKEY','LOCATION','EXCEPTRSNCODE',\\\n",
    "'EXCEPTRSNDESC', 'SEVERITYDESC','SDOTCOLNUM','ST_COLCODE','ST_COLDESC','SEGLANEKEY','CROSSWALKKEY','HITPARKEDCAR'], axis=1, inplace=True)\n",
    "\n",
    "df1.drop(['INCDATE'], axis=1, inplace=True)"
   ]
  },
  {
   "cell_type": "markdown",
   "metadata": {},
   "source": [
    "# Some columns with blank data filled in with appropriate information, ie speeding under the influence to complete the data set"
   ]
  },
  {
   "cell_type": "code",
   "execution_count": 5,
   "metadata": {},
   "outputs": [
    {
     "data": {
      "text/plain": [
       "Index(['X', 'Y', 'SEVERITYCODE.1', 'COLLISIONTYPE', 'PERSONCOUNT', 'PEDCOUNT',\n",
       "       'PEDCYLCOUNT', 'VEHCOUNT', 'INCDTTM', 'JUNCTIONTYPE', 'SDOT_COLCODE',\n",
       "       'SDOT_COLDESC', 'INATTENTIONIND', 'UNDERINFL', 'WEATHER', 'ROADCOND',\n",
       "       'LIGHTCOND', 'PEDROWNOTGRNT', 'SPEEDING'],\n",
       "      dtype='object')"
      ]
     },
     "execution_count": 5,
     "metadata": {},
     "output_type": "execute_result"
    }
   ],
   "source": [
    "df1.loc[df1['SPEEDING'] != 'Y', 'SPEEDING'] = 'N' \n",
    "df1.loc[df1['INATTENTIONIND'] != 'Y', 'INATTENTIONIND'] = 'N' \n",
    "df1.loc[df1['UNDERINFL'] != 'Y', 'UNDERINFL'] = 'N' \n",
    "df1.loc[df1['PEDROWNOTGRNT'] != 'Y', 'PEDROWNOTGRNT'] = 'N' \n",
    "df1.columns\n"
   ]
  },
  {
   "cell_type": "code",
   "execution_count": 6,
   "metadata": {},
   "outputs": [
    {
     "data": {
      "text/plain": [
       "N    190006\n",
       "Y      4667\n",
       "Name: PEDROWNOTGRNT, dtype: int64"
      ]
     },
     "execution_count": 6,
     "metadata": {},
     "output_type": "execute_result"
    }
   ],
   "source": [
    "df1['PEDROWNOTGRNT'].value_counts()"
   ]
  },
  {
   "cell_type": "code",
   "execution_count": 7,
   "metadata": {},
   "outputs": [
    {
     "data": {
      "text/plain": [
       "(180067, 19)"
      ]
     },
     "execution_count": 7,
     "metadata": {},
     "output_type": "execute_result"
    }
   ],
   "source": [
    "df1.dropna(how='any', inplace=True)\n",
    "df1.shape"
   ]
  },
  {
   "cell_type": "markdown",
   "metadata": {},
   "source": [
    "# Split the date time and keep only rows with complete data time data"
   ]
  },
  {
   "cell_type": "code",
   "execution_count": 8,
   "metadata": {},
   "outputs": [
    {
     "data": {
      "text/plain": [
       "Index(['X', 'Y', 'SEVERITYCODE.1', 'COLLISIONTYPE', 'PERSONCOUNT', 'PEDCOUNT',\n",
       "       'PEDCYLCOUNT', 'VEHCOUNT', 'INCDTTM', 'JUNCTIONTYPE', 'SDOT_COLCODE',\n",
       "       'SDOT_COLDESC', 'INATTENTIONIND', 'UNDERINFL', 'WEATHER', 'ROADCOND',\n",
       "       'LIGHTCOND', 'PEDROWNOTGRNT', 'SPEEDING', 'DATE', 'TIME'],\n",
       "      dtype='object')"
      ]
     },
     "execution_count": 8,
     "metadata": {},
     "output_type": "execute_result"
    }
   ],
   "source": [
    "df1[['DATE','TIME']] = df1.INCDTTM.str.split(\" \", expand=True)\n",
    "df1.columns\n"
   ]
  },
  {
   "cell_type": "code",
   "execution_count": 9,
   "metadata": {},
   "outputs": [
    {
     "name": "stdout",
     "output_type": "stream",
     "text": [
      "<class 'pandas.core.frame.DataFrame'>\n",
      "Int64Index: 155403 entries, 2 to 1\n",
      "Data columns (total 21 columns):\n",
      " #   Column          Non-Null Count   Dtype  \n",
      "---  ------          --------------   -----  \n",
      " 0   X               155403 non-null  float64\n",
      " 1   Y               155403 non-null  float64\n",
      " 2   SEVERITYCODE.1  155403 non-null  int64  \n",
      " 3   COLLISIONTYPE   155403 non-null  object \n",
      " 4   PERSONCOUNT     155403 non-null  int64  \n",
      " 5   PEDCOUNT        155403 non-null  int64  \n",
      " 6   PEDCYLCOUNT     155403 non-null  int64  \n",
      " 7   VEHCOUNT        155403 non-null  int64  \n",
      " 8   INCDTTM         155403 non-null  object \n",
      " 9   JUNCTIONTYPE    155403 non-null  object \n",
      " 10  SDOT_COLCODE    155403 non-null  int64  \n",
      " 11  SDOT_COLDESC    155403 non-null  object \n",
      " 12  INATTENTIONIND  155403 non-null  object \n",
      " 13  UNDERINFL       155403 non-null  object \n",
      " 14  WEATHER         155403 non-null  object \n",
      " 15  ROADCOND        155403 non-null  object \n",
      " 16  LIGHTCOND       155403 non-null  object \n",
      " 17  PEDROWNOTGRNT   155403 non-null  object \n",
      " 18  SPEEDING        155403 non-null  object \n",
      " 19  DATE            155403 non-null  object \n",
      " 20  TIME            155403 non-null  object \n",
      "dtypes: float64(2), int64(6), object(13)\n",
      "memory usage: 26.1+ MB\n"
     ]
    }
   ],
   "source": [
    "df1.dropna(how='any', inplace=True)\n",
    "df1.info()"
   ]
  },
  {
   "cell_type": "markdown",
   "metadata": {},
   "source": [
    "# Compare the cleaned data set to the original\n",
    "# 25% less rows but still around 30% of the accidents are injuries"
   ]
  },
  {
   "cell_type": "code",
   "execution_count": 10,
   "metadata": {},
   "outputs": [
    {
     "data": {
      "text/plain": [
       "1    106764\n",
       "2     48639\n",
       "Name: SEVERITYCODE.1, dtype: int64"
      ]
     },
     "execution_count": 10,
     "metadata": {},
     "output_type": "execute_result"
    }
   ],
   "source": [
    "df1.shape\n",
    "df1['SEVERITYCODE.1'].value_counts()"
   ]
  },
  {
   "cell_type": "code",
   "execution_count": 11,
   "metadata": {},
   "outputs": [
    {
     "data": {
      "text/plain": [
       "1    136485\n",
       "2     58188\n",
       "Name: SEVERITYCODE.1, dtype: int64"
      ]
     },
     "execution_count": 11,
     "metadata": {},
     "output_type": "execute_result"
    }
   ],
   "source": [
    "df['SEVERITYCODE.1'].value_counts()"
   ]
  },
  {
   "cell_type": "code",
   "execution_count": 12,
   "metadata": {},
   "outputs": [
    {
     "name": "stdout",
     "output_type": "stream",
     "text": [
      "<class 'pandas.core.frame.DataFrame'>\n",
      "Int64Index: 155403 entries, 2 to 1\n",
      "Data columns (total 21 columns):\n",
      " #   Column          Non-Null Count   Dtype  \n",
      "---  ------          --------------   -----  \n",
      " 0   X               155403 non-null  float64\n",
      " 1   Y               155403 non-null  float64\n",
      " 2   SEVERITYCODE.1  155403 non-null  int64  \n",
      " 3   COLLISIONTYPE   155403 non-null  object \n",
      " 4   PERSONCOUNT     155403 non-null  int64  \n",
      " 5   PEDCOUNT        155403 non-null  int64  \n",
      " 6   PEDCYLCOUNT     155403 non-null  int64  \n",
      " 7   VEHCOUNT        155403 non-null  int64  \n",
      " 8   INCDTTM         155403 non-null  object \n",
      " 9   JUNCTIONTYPE    155403 non-null  object \n",
      " 10  SDOT_COLCODE    155403 non-null  int64  \n",
      " 11  SDOT_COLDESC    155403 non-null  object \n",
      " 12  INATTENTIONIND  155403 non-null  object \n",
      " 13  UNDERINFL       155403 non-null  object \n",
      " 14  WEATHER         155403 non-null  object \n",
      " 15  ROADCOND        155403 non-null  object \n",
      " 16  LIGHTCOND       155403 non-null  object \n",
      " 17  PEDROWNOTGRNT   155403 non-null  object \n",
      " 18  SPEEDING        155403 non-null  object \n",
      " 19  DATE            155403 non-null  object \n",
      " 20  TIME            155403 non-null  object \n",
      "dtypes: float64(2), int64(6), object(13)\n",
      "memory usage: 26.1+ MB\n"
     ]
    }
   ],
   "source": [
    "df1.info()"
   ]
  },
  {
   "cell_type": "code",
   "execution_count": 13,
   "metadata": {},
   "outputs": [
    {
     "name": "stdout",
     "output_type": "stream",
     "text": [
      "<class 'pandas.core.frame.DataFrame'>\n",
      "Int64Index: 155403 entries, 2 to 1\n",
      "Data columns (total 19 columns):\n",
      " #   Column          Non-Null Count   Dtype         \n",
      "---  ------          --------------   -----         \n",
      " 0   X               155403 non-null  float64       \n",
      " 1   Y               155403 non-null  float64       \n",
      " 2   SEVERITYCODE.1  155403 non-null  int64         \n",
      " 3   COLLISIONTYPE   155403 non-null  object        \n",
      " 4   PERSONCOUNT     155403 non-null  int64         \n",
      " 5   PEDCOUNT        155403 non-null  int64         \n",
      " 6   PEDCYLCOUNT     155403 non-null  int64         \n",
      " 7   VEHCOUNT        155403 non-null  int64         \n",
      " 8   JUNCTIONTYPE    155403 non-null  object        \n",
      " 9   SDOT_COLCODE    155403 non-null  int64         \n",
      " 10  SDOT_COLDESC    155403 non-null  object        \n",
      " 11  INATTENTIONIND  155403 non-null  object        \n",
      " 12  UNDERINFL       155403 non-null  object        \n",
      " 13  WEATHER         155403 non-null  object        \n",
      " 14  ROADCOND        155403 non-null  object        \n",
      " 15  LIGHTCOND       155403 non-null  object        \n",
      " 16  PEDROWNOTGRNT   155403 non-null  object        \n",
      " 17  SPEEDING        155403 non-null  object        \n",
      " 18  DATE_TIME       155403 non-null  datetime64[ns]\n",
      "dtypes: datetime64[ns](1), float64(2), int64(6), object(10)\n",
      "memory usage: 23.7+ MB\n"
     ]
    }
   ],
   "source": [
    "df1['DATE_TIME'] = df1['DATE'] + \" \" + df1['TIME']\n",
    "df1['DATE_TIME'] = pd.to_datetime(df1['DATE_TIME'], format=\"%m/%d/%Y %H:%M\")\n",
    "df1.drop(['INCDTTM'], axis = 1, inplace=True)\n",
    "df1.drop(['DATE', 'TIME'], axis = 1, inplace=True)\n",
    "\n",
    "df1.info()"
   ]
  },
  {
   "cell_type": "markdown",
   "metadata": {},
   "source": [
    "## Add month, day and hour categories"
   ]
  },
  {
   "cell_type": "code",
   "execution_count": 14,
   "metadata": {},
   "outputs": [
    {
     "data": {
      "text/html": [
       "<div>\n",
       "<style scoped>\n",
       "    .dataframe tbody tr th:only-of-type {\n",
       "        vertical-align: middle;\n",
       "    }\n",
       "\n",
       "    .dataframe tbody tr th {\n",
       "        vertical-align: top;\n",
       "    }\n",
       "\n",
       "    .dataframe thead th {\n",
       "        text-align: right;\n",
       "    }\n",
       "</style>\n",
       "<table border=\"1\" class=\"dataframe\">\n",
       "  <thead>\n",
       "    <tr style=\"text-align: right;\">\n",
       "      <th></th>\n",
       "      <th>X</th>\n",
       "      <th>Y</th>\n",
       "      <th>SEVERITYCODE.1</th>\n",
       "      <th>COLLISIONTYPE</th>\n",
       "      <th>PERSONCOUNT</th>\n",
       "      <th>PEDCOUNT</th>\n",
       "      <th>PEDCYLCOUNT</th>\n",
       "      <th>VEHCOUNT</th>\n",
       "      <th>JUNCTIONTYPE</th>\n",
       "      <th>SDOT_COLCODE</th>\n",
       "      <th>...</th>\n",
       "      <th>UNDERINFL</th>\n",
       "      <th>WEATHER</th>\n",
       "      <th>ROADCOND</th>\n",
       "      <th>LIGHTCOND</th>\n",
       "      <th>PEDROWNOTGRNT</th>\n",
       "      <th>SPEEDING</th>\n",
       "      <th>DATE_TIME</th>\n",
       "      <th>HOUR</th>\n",
       "      <th>DAY</th>\n",
       "      <th>MONTH</th>\n",
       "    </tr>\n",
       "    <tr>\n",
       "      <th>SEVERITYCODE</th>\n",
       "      <th></th>\n",
       "      <th></th>\n",
       "      <th></th>\n",
       "      <th></th>\n",
       "      <th></th>\n",
       "      <th></th>\n",
       "      <th></th>\n",
       "      <th></th>\n",
       "      <th></th>\n",
       "      <th></th>\n",
       "      <th></th>\n",
       "      <th></th>\n",
       "      <th></th>\n",
       "      <th></th>\n",
       "      <th></th>\n",
       "      <th></th>\n",
       "      <th></th>\n",
       "      <th></th>\n",
       "      <th></th>\n",
       "      <th></th>\n",
       "      <th></th>\n",
       "    </tr>\n",
       "  </thead>\n",
       "  <tbody>\n",
       "    <tr>\n",
       "      <th>2</th>\n",
       "      <td>-122.323148</td>\n",
       "      <td>47.703140</td>\n",
       "      <td>2</td>\n",
       "      <td>Angles</td>\n",
       "      <td>2</td>\n",
       "      <td>0</td>\n",
       "      <td>0</td>\n",
       "      <td>2</td>\n",
       "      <td>At Intersection (intersection related)</td>\n",
       "      <td>11</td>\n",
       "      <td>...</td>\n",
       "      <td>N</td>\n",
       "      <td>Overcast</td>\n",
       "      <td>Wet</td>\n",
       "      <td>Daylight</td>\n",
       "      <td>N</td>\n",
       "      <td>N</td>\n",
       "      <td>2013-03-27 14:54:00</td>\n",
       "      <td>14</td>\n",
       "      <td>27</td>\n",
       "      <td>3</td>\n",
       "    </tr>\n",
       "    <tr>\n",
       "      <th>1</th>\n",
       "      <td>-122.347294</td>\n",
       "      <td>47.647172</td>\n",
       "      <td>1</td>\n",
       "      <td>Sideswipe</td>\n",
       "      <td>2</td>\n",
       "      <td>0</td>\n",
       "      <td>0</td>\n",
       "      <td>2</td>\n",
       "      <td>Mid-Block (not related to intersection)</td>\n",
       "      <td>16</td>\n",
       "      <td>...</td>\n",
       "      <td>N</td>\n",
       "      <td>Raining</td>\n",
       "      <td>Wet</td>\n",
       "      <td>Dark - Street Lights On</td>\n",
       "      <td>N</td>\n",
       "      <td>N</td>\n",
       "      <td>2006-12-20 18:55:00</td>\n",
       "      <td>18</td>\n",
       "      <td>20</td>\n",
       "      <td>12</td>\n",
       "    </tr>\n",
       "    <tr>\n",
       "      <th>1</th>\n",
       "      <td>-122.334540</td>\n",
       "      <td>47.607871</td>\n",
       "      <td>1</td>\n",
       "      <td>Parked Car</td>\n",
       "      <td>4</td>\n",
       "      <td>0</td>\n",
       "      <td>0</td>\n",
       "      <td>3</td>\n",
       "      <td>Mid-Block (not related to intersection)</td>\n",
       "      <td>14</td>\n",
       "      <td>...</td>\n",
       "      <td>N</td>\n",
       "      <td>Overcast</td>\n",
       "      <td>Dry</td>\n",
       "      <td>Daylight</td>\n",
       "      <td>N</td>\n",
       "      <td>N</td>\n",
       "      <td>2004-11-18 10:20:00</td>\n",
       "      <td>10</td>\n",
       "      <td>18</td>\n",
       "      <td>11</td>\n",
       "    </tr>\n",
       "    <tr>\n",
       "      <th>1</th>\n",
       "      <td>-122.334803</td>\n",
       "      <td>47.604803</td>\n",
       "      <td>1</td>\n",
       "      <td>Other</td>\n",
       "      <td>3</td>\n",
       "      <td>0</td>\n",
       "      <td>0</td>\n",
       "      <td>3</td>\n",
       "      <td>Mid-Block (not related to intersection)</td>\n",
       "      <td>11</td>\n",
       "      <td>...</td>\n",
       "      <td>N</td>\n",
       "      <td>Clear</td>\n",
       "      <td>Dry</td>\n",
       "      <td>Daylight</td>\n",
       "      <td>N</td>\n",
       "      <td>N</td>\n",
       "      <td>2013-03-29 09:26:00</td>\n",
       "      <td>9</td>\n",
       "      <td>29</td>\n",
       "      <td>3</td>\n",
       "    </tr>\n",
       "    <tr>\n",
       "      <th>2</th>\n",
       "      <td>-122.306426</td>\n",
       "      <td>47.545739</td>\n",
       "      <td>2</td>\n",
       "      <td>Angles</td>\n",
       "      <td>2</td>\n",
       "      <td>0</td>\n",
       "      <td>0</td>\n",
       "      <td>2</td>\n",
       "      <td>At Intersection (intersection related)</td>\n",
       "      <td>11</td>\n",
       "      <td>...</td>\n",
       "      <td>N</td>\n",
       "      <td>Raining</td>\n",
       "      <td>Wet</td>\n",
       "      <td>Daylight</td>\n",
       "      <td>N</td>\n",
       "      <td>N</td>\n",
       "      <td>2004-01-28 08:04:00</td>\n",
       "      <td>8</td>\n",
       "      <td>28</td>\n",
       "      <td>1</td>\n",
       "    </tr>\n",
       "  </tbody>\n",
       "</table>\n",
       "<p>5 rows × 22 columns</p>\n",
       "</div>"
      ],
      "text/plain": [
       "                       X          Y  SEVERITYCODE.1 COLLISIONTYPE  \\\n",
       "SEVERITYCODE                                                        \n",
       "2            -122.323148  47.703140               2        Angles   \n",
       "1            -122.347294  47.647172               1     Sideswipe   \n",
       "1            -122.334540  47.607871               1    Parked Car   \n",
       "1            -122.334803  47.604803               1         Other   \n",
       "2            -122.306426  47.545739               2        Angles   \n",
       "\n",
       "              PERSONCOUNT  PEDCOUNT  PEDCYLCOUNT  VEHCOUNT  \\\n",
       "SEVERITYCODE                                                 \n",
       "2                       2         0            0         2   \n",
       "1                       2         0            0         2   \n",
       "1                       4         0            0         3   \n",
       "1                       3         0            0         3   \n",
       "2                       2         0            0         2   \n",
       "\n",
       "                                         JUNCTIONTYPE  SDOT_COLCODE  ...  \\\n",
       "SEVERITYCODE                                                         ...   \n",
       "2              At Intersection (intersection related)            11  ...   \n",
       "1             Mid-Block (not related to intersection)            16  ...   \n",
       "1             Mid-Block (not related to intersection)            14  ...   \n",
       "1             Mid-Block (not related to intersection)            11  ...   \n",
       "2              At Intersection (intersection related)            11  ...   \n",
       "\n",
       "             UNDERINFL   WEATHER ROADCOND                LIGHTCOND  \\\n",
       "SEVERITYCODE                                                         \n",
       "2                    N  Overcast      Wet                 Daylight   \n",
       "1                    N   Raining      Wet  Dark - Street Lights On   \n",
       "1                    N  Overcast      Dry                 Daylight   \n",
       "1                    N     Clear      Dry                 Daylight   \n",
       "2                    N   Raining      Wet                 Daylight   \n",
       "\n",
       "             PEDROWNOTGRNT SPEEDING           DATE_TIME HOUR DAY  MONTH  \n",
       "SEVERITYCODE                                                             \n",
       "2                        N        N 2013-03-27 14:54:00   14  27      3  \n",
       "1                        N        N 2006-12-20 18:55:00   18  20     12  \n",
       "1                        N        N 2004-11-18 10:20:00   10  18     11  \n",
       "1                        N        N 2013-03-29 09:26:00    9  29      3  \n",
       "2                        N        N 2004-01-28 08:04:00    8  28      1  \n",
       "\n",
       "[5 rows x 22 columns]"
      ]
     },
     "execution_count": 14,
     "metadata": {},
     "output_type": "execute_result"
    }
   ],
   "source": [
    "df1['HOUR'] = df1['DATE_TIME'].dt.hour\n",
    "df1['DAY'] = df1['DATE_TIME'].dt.day\n",
    "df1['MONTH'] = df1['DATE_TIME'].dt.month\n",
    "df1.head()"
   ]
  },
  {
   "cell_type": "markdown",
   "metadata": {},
   "source": [
    "## Create a balanced data set by downsampling the majority class Damage"
   ]
  },
  {
   "cell_type": "code",
   "execution_count": 15,
   "metadata": {
    "scrolled": false
   },
   "outputs": [
    {
     "name": "stdout",
     "output_type": "stream",
     "text": [
      "(106764, 22)\n",
      "(48639, 22)\n"
     ]
    }
   ],
   "source": [
    "df_dam = df1[df1['SEVERITYCODE.1'] == 1]\n",
    "print(df_dam.shape)\n",
    "df_inj = df1[df1['SEVERITYCODE.1'] == 2]\n",
    "print(df_inj.shape)"
   ]
  },
  {
   "cell_type": "markdown",
   "metadata": {},
   "source": [
    "# Down sampled majority"
   ]
  },
  {
   "cell_type": "code",
   "execution_count": 16,
   "metadata": {},
   "outputs": [
    {
     "name": "stdout",
     "output_type": "stream",
     "text": [
      "The number of rows in the downsampled set of damage collisions are: 48639.\n",
      "The number of rows in the injury collisions are: 48639.\n",
      "The data frames are now balanced.\n"
     ]
    },
    {
     "data": {
      "text/plain": [
       "(97278, 22)"
      ]
     },
     "execution_count": 16,
     "metadata": {},
     "output_type": "execute_result"
    }
   ],
   "source": [
    "from sklearn.utils import resample\n",
    "\n",
    "df_dam_downsampled = resample(df_dam, \n",
    "                             replace=False,     # sample without replacement\n",
    "                             n_samples=48639,   # cases to match minority case\n",
    "                             random_state=15)   # reproducible results\n",
    "\n",
    "print(f\"The number of rows in the downsampled set of damage collisions are: {df_dam_downsampled.shape[0]}.\")\n",
    "print(f\"The number of rows in the injury collisions are: {df_inj.shape[0]}.\")\n",
    "print(\"The data frames are now balanced.\")\n",
    "df_bal = pd.concat([df_dam_downsampled, df_inj])\n",
    "df_bal.shape"
   ]
  },
  {
   "cell_type": "markdown",
   "metadata": {},
   "source": [
    "## Remove additional columns, focus on the environmental variables"
   ]
  },
  {
   "cell_type": "code",
   "execution_count": 17,
   "metadata": {},
   "outputs": [
    {
     "data": {
      "text/plain": [
       "Index(['X', 'Y', 'SEVERITYCODE.1', 'COLLISIONTYPE', 'PERSONCOUNT', 'PEDCOUNT',\n",
       "       'PEDCYLCOUNT', 'VEHCOUNT', 'JUNCTIONTYPE', 'SDOT_COLCODE',\n",
       "       'INATTENTIONIND', 'UNDERINFL', 'WEATHER', 'ROADCOND', 'LIGHTCOND',\n",
       "       'PEDROWNOTGRNT', 'SPEEDING', 'DATE_TIME', 'HOUR', 'DAY', 'MONTH'],\n",
       "      dtype='object')"
      ]
     },
     "execution_count": 17,
     "metadata": {},
     "output_type": "execute_result"
    }
   ],
   "source": [
    "df_bal.drop(['SDOT_COLDESC'], axis=1, inplace=True)\n",
    "df_bal.columns"
   ]
  },
  {
   "cell_type": "code",
   "execution_count": 18,
   "metadata": {},
   "outputs": [
    {
     "data": {
      "text/plain": [
       "Index(['SEVERITYCODE.1', 'COLLISIONTYPE', 'PERSONCOUNT', 'PEDCOUNT',\n",
       "       'PEDCYLCOUNT', 'VEHCOUNT', 'JUNCTIONTYPE', 'SDOT_COLCODE',\n",
       "       'INATTENTIONIND', 'UNDERINFL', 'WEATHER', 'ROADCOND', 'LIGHTCOND',\n",
       "       'PEDROWNOTGRNT', 'SPEEDING', 'DATE_TIME', 'HOUR', 'DAY', 'MONTH'],\n",
       "      dtype='object')"
      ]
     },
     "execution_count": 18,
     "metadata": {},
     "output_type": "execute_result"
    }
   ],
   "source": [
    "df_bal.drop(['X','Y'], axis=1, inplace=True)\n",
    "df_bal.columns"
   ]
  },
  {
   "cell_type": "code",
   "execution_count": 19,
   "metadata": {},
   "outputs": [
    {
     "data": {
      "text/plain": [
       "Index(['SEVERITYCODE.1', 'COLLISIONTYPE', 'PERSONCOUNT', 'PEDCOUNT',\n",
       "       'PEDCYLCOUNT', 'VEHCOUNT', 'JUNCTIONTYPE', 'SDOT_COLCODE',\n",
       "       'INATTENTIONIND', 'UNDERINFL', 'WEATHER', 'ROADCOND', 'LIGHTCOND',\n",
       "       'PEDROWNOTGRNT', 'SPEEDING', 'HOUR', 'DAY', 'MONTH'],\n",
       "      dtype='object')"
      ]
     },
     "execution_count": 19,
     "metadata": {},
     "output_type": "execute_result"
    }
   ],
   "source": [
    "df_bal.drop(['DATE_TIME'], axis=1, inplace=True)\n",
    "df_bal.columns"
   ]
  },
  {
   "cell_type": "code",
   "execution_count": 20,
   "metadata": {},
   "outputs": [
    {
     "data": {
      "text/plain": [
       "Index(['SEVERITYCODE.1', 'COLLISIONTYPE', 'PEDCOUNT', 'PEDCYLCOUNT',\n",
       "       'JUNCTIONTYPE', 'SDOT_COLCODE', 'INATTENTIONIND', 'UNDERINFL',\n",
       "       'WEATHER', 'ROADCOND', 'LIGHTCOND', 'PEDROWNOTGRNT', 'SPEEDING', 'HOUR',\n",
       "       'DAY', 'MONTH'],\n",
       "      dtype='object')"
      ]
     },
     "execution_count": 20,
     "metadata": {},
     "output_type": "execute_result"
    }
   ],
   "source": [
    "df_bal.drop(['PERSONCOUNT','VEHCOUNT'], axis=1, inplace=True)\n",
    "df_bal.columns"
   ]
  },
  {
   "cell_type": "code",
   "execution_count": 21,
   "metadata": {},
   "outputs": [
    {
     "data": {
      "text/plain": [
       "Index(['SEVERITYCODE.1', 'PEDCOUNT', 'PEDCYLCOUNT', 'JUNCTIONTYPE',\n",
       "       'SDOT_COLCODE', 'INATTENTIONIND', 'UNDERINFL', 'WEATHER', 'ROADCOND',\n",
       "       'LIGHTCOND', 'PEDROWNOTGRNT', 'SPEEDING', 'HOUR', 'DAY', 'MONTH'],\n",
       "      dtype='object')"
      ]
     },
     "execution_count": 21,
     "metadata": {},
     "output_type": "execute_result"
    }
   ],
   "source": [
    "df_bal.drop(['COLLISIONTYPE'], axis=1, inplace=True)\n",
    "df_bal.columns"
   ]
  },
  {
   "cell_type": "code",
   "execution_count": 22,
   "metadata": {},
   "outputs": [
    {
     "data": {
      "text/plain": [
       "Index(['SEVERITYCODE.1', 'PEDCOUNT', 'PEDCYLCOUNT', 'JUNCTIONTYPE',\n",
       "       'SDOT_COLCODE', 'INATTENTIONIND', 'UNDERINFL', 'WEATHER', 'ROADCOND',\n",
       "       'LIGHTCOND', 'PEDROWNOTGRNT', 'SPEEDING', 'HOUR', 'DAY', 'MONTH'],\n",
       "      dtype='object')"
      ]
     },
     "execution_count": 22,
     "metadata": {},
     "output_type": "execute_result"
    }
   ],
   "source": [
    "df_bal.columns"
   ]
  },
  {
   "cell_type": "markdown",
   "metadata": {},
   "source": [
    "##  Set up the X as the feature matrix and Y as the response vector"
   ]
  },
  {
   "cell_type": "code",
   "execution_count": 23,
   "metadata": {},
   "outputs": [
    {
     "data": {
      "text/plain": [
       "array([['N', 'N', 'Clear', 'N', 23, 7, 5, 0, 0,\n",
       "        'Mid-Block (not related to intersection)', 11, 'Dry',\n",
       "        'Dark - Street Lights On', 'N'],\n",
       "       ['N', 'N', 'Unknown', 'N', 18, 27, 3, 0, 0,\n",
       "        'Mid-Block (not related to intersection)', 16, 'Unknown',\n",
       "        'Unknown', 'N'],\n",
       "       ['N', 'N', 'Overcast', 'N', 17, 17, 6, 0, 0,\n",
       "        'At Intersection (intersection related)', 11, 'Dry', 'Daylight',\n",
       "        'N'],\n",
       "       ['Y', 'N', 'Clear', 'N', 5, 30, 6, 0, 0,\n",
       "        'Mid-Block (not related to intersection)', 0, 'Dry', 'Daylight',\n",
       "        'N'],\n",
       "       ['N', 'N', 'Unknown', 'N', 12, 21, 8, 0, 0,\n",
       "        'Mid-Block (not related to intersection)', 0, 'Unknown',\n",
       "        'Unknown', 'N']], dtype=object)"
      ]
     },
     "execution_count": 23,
     "metadata": {},
     "output_type": "execute_result"
    }
   ],
   "source": [
    "X = df_bal[['INATTENTIONIND','UNDERINFL','WEATHER','SPEEDING','HOUR','DAY','MONTH','PEDCOUNT',\\\n",
    "           'PEDCYLCOUNT','JUNCTIONTYPE','SDOT_COLCODE','ROADCOND','LIGHTCOND','PEDROWNOTGRNT']].values\n",
    "X[0:5]"
   ]
  },
  {
   "cell_type": "code",
   "execution_count": 24,
   "metadata": {},
   "outputs": [
    {
     "name": "stdout",
     "output_type": "stream",
     "text": [
      "<class 'pandas.core.frame.DataFrame'>\n",
      "Int64Index: 97278 entries, 1 to 2\n",
      "Data columns (total 14 columns):\n",
      " #   Column          Non-Null Count  Dtype \n",
      "---  ------          --------------  ----- \n",
      " 0   INATTENTIONIND  97278 non-null  object\n",
      " 1   UNDERINFL       97278 non-null  object\n",
      " 2   WEATHER         97278 non-null  object\n",
      " 3   SPEEDING        97278 non-null  object\n",
      " 4   HOUR            97278 non-null  int64 \n",
      " 5   DAY             97278 non-null  int64 \n",
      " 6   MONTH           97278 non-null  int64 \n",
      " 7   PEDCOUNT        97278 non-null  int64 \n",
      " 8   PEDCYLCOUNT     97278 non-null  int64 \n",
      " 9   JUNCTIONTYPE    97278 non-null  object\n",
      " 10  SDOT_COLCODE    97278 non-null  int64 \n",
      " 11  ROADCOND        97278 non-null  object\n",
      " 12  LIGHTCOND       97278 non-null  object\n",
      " 13  PEDROWNOTGRNT   97278 non-null  object\n",
      "dtypes: int64(6), object(8)\n",
      "memory usage: 11.1+ MB\n"
     ]
    }
   ],
   "source": [
    "X_df = df_bal[['INATTENTIONIND','UNDERINFL','WEATHER','SPEEDING','HOUR','DAY','MONTH',\\\n",
    "              'PEDCOUNT','PEDCYLCOUNT','JUNCTIONTYPE','SDOT_COLCODE','ROADCOND','LIGHTCOND','PEDROWNOTGRNT']]\n",
    "X_df.info()"
   ]
  },
  {
   "cell_type": "code",
   "execution_count": 25,
   "metadata": {},
   "outputs": [
    {
     "data": {
      "text/plain": [
       "array([[0, 'N', 'Clear', 'N', 23, 7, 5, 0, 0,\n",
       "        'Mid-Block (not related to intersection)', 11, 'Dry',\n",
       "        'Dark - Street Lights On', 'N'],\n",
       "       [0, 'N', 'Unknown', 'N', 18, 27, 3, 0, 0,\n",
       "        'Mid-Block (not related to intersection)', 16, 'Unknown',\n",
       "        'Unknown', 'N'],\n",
       "       [0, 'N', 'Overcast', 'N', 17, 17, 6, 0, 0,\n",
       "        'At Intersection (intersection related)', 11, 'Dry', 'Daylight',\n",
       "        'N'],\n",
       "       [1, 'N', 'Clear', 'N', 5, 30, 6, 0, 0,\n",
       "        'Mid-Block (not related to intersection)', 0, 'Dry', 'Daylight',\n",
       "        'N'],\n",
       "       [0, 'N', 'Unknown', 'N', 12, 21, 8, 0, 0,\n",
       "        'Mid-Block (not related to intersection)', 0, 'Unknown',\n",
       "        'Unknown', 'N']], dtype=object)"
      ]
     },
     "execution_count": 25,
     "metadata": {},
     "output_type": "execute_result"
    }
   ],
   "source": [
    "from sklearn import preprocessing\n",
    "\n",
    "le_inattentionind = preprocessing.LabelEncoder()\n",
    "le_inattentionind.fit(['N','Y'])\n",
    "X[:,0] = le_inattentionind.transform(X[:,0])\n",
    "X[0:5]"
   ]
  },
  {
   "cell_type": "code",
   "execution_count": 26,
   "metadata": {},
   "outputs": [
    {
     "data": {
      "text/plain": [
       "array([[0, 0, 'Clear', 'N', 23, 7, 5, 0, 0,\n",
       "        'Mid-Block (not related to intersection)', 11, 'Dry',\n",
       "        'Dark - Street Lights On', 'N'],\n",
       "       [0, 0, 'Unknown', 'N', 18, 27, 3, 0, 0,\n",
       "        'Mid-Block (not related to intersection)', 16, 'Unknown',\n",
       "        'Unknown', 'N'],\n",
       "       [0, 0, 'Overcast', 'N', 17, 17, 6, 0, 0,\n",
       "        'At Intersection (intersection related)', 11, 'Dry', 'Daylight',\n",
       "        'N'],\n",
       "       [1, 0, 'Clear', 'N', 5, 30, 6, 0, 0,\n",
       "        'Mid-Block (not related to intersection)', 0, 'Dry', 'Daylight',\n",
       "        'N'],\n",
       "       [0, 0, 'Unknown', 'N', 12, 21, 8, 0, 0,\n",
       "        'Mid-Block (not related to intersection)', 0, 'Unknown',\n",
       "        'Unknown', 'N']], dtype=object)"
      ]
     },
     "execution_count": 26,
     "metadata": {},
     "output_type": "execute_result"
    }
   ],
   "source": [
    "le_underinfl = preprocessing.LabelEncoder()\n",
    "le_underinfl.fit(['N','Y'])\n",
    "X[:,1] = le_underinfl.transform(X[:,1])\n",
    "X[0:5]"
   ]
  },
  {
   "cell_type": "code",
   "execution_count": 27,
   "metadata": {},
   "outputs": [
    {
     "data": {
      "text/plain": [
       "N    92387\n",
       "Y     4891\n",
       "Name: SPEEDING, dtype: int64"
      ]
     },
     "execution_count": 27,
     "metadata": {},
     "output_type": "execute_result"
    }
   ],
   "source": [
    "X_df['SPEEDING'].value_counts()"
   ]
  },
  {
   "cell_type": "code",
   "execution_count": 28,
   "metadata": {},
   "outputs": [
    {
     "data": {
      "text/plain": [
       "array([[0, 0, 1, 'N', 23, 7, 5, 0, 0,\n",
       "        'Mid-Block (not related to intersection)', 11, 'Dry',\n",
       "        'Dark - Street Lights On', 'N'],\n",
       "       [0, 0, 10, 'N', 18, 27, 3, 0, 0,\n",
       "        'Mid-Block (not related to intersection)', 16, 'Unknown',\n",
       "        'Unknown', 'N'],\n",
       "       [0, 0, 4, 'N', 17, 17, 6, 0, 0,\n",
       "        'At Intersection (intersection related)', 11, 'Dry', 'Daylight',\n",
       "        'N'],\n",
       "       [1, 0, 1, 'N', 5, 30, 6, 0, 0,\n",
       "        'Mid-Block (not related to intersection)', 0, 'Dry', 'Daylight',\n",
       "        'N'],\n",
       "       [0, 0, 10, 'N', 12, 21, 8, 0, 0,\n",
       "        'Mid-Block (not related to intersection)', 0, 'Unknown',\n",
       "        'Unknown', 'N']], dtype=object)"
      ]
     },
     "execution_count": 28,
     "metadata": {},
     "output_type": "execute_result"
    }
   ],
   "source": [
    "le_weather = preprocessing.LabelEncoder()\n",
    "le_weather.fit(['Clear','Raining','Overcast','Unknown','Snowing','Other','Fog/Smog/Smoke','Sleet/Hail/Freezing Rain',\\\n",
    "               'Blowing Sand/Dirt','Severe Crosswind','Partly Cloudy'])\n",
    "X[:,2] = le_weather.transform(X[:,2])\n",
    "X[0:5]"
   ]
  },
  {
   "cell_type": "code",
   "execution_count": 29,
   "metadata": {},
   "outputs": [
    {
     "data": {
      "text/plain": [
       "array([[0, 0, 1, 0, 23, 7, 5, 0, 0,\n",
       "        'Mid-Block (not related to intersection)', 11, 'Dry',\n",
       "        'Dark - Street Lights On', 'N'],\n",
       "       [0, 0, 10, 0, 18, 27, 3, 0, 0,\n",
       "        'Mid-Block (not related to intersection)', 16, 'Unknown',\n",
       "        'Unknown', 'N'],\n",
       "       [0, 0, 4, 0, 17, 17, 6, 0, 0,\n",
       "        'At Intersection (intersection related)', 11, 'Dry', 'Daylight',\n",
       "        'N'],\n",
       "       [1, 0, 1, 0, 5, 30, 6, 0, 0,\n",
       "        'Mid-Block (not related to intersection)', 0, 'Dry', 'Daylight',\n",
       "        'N'],\n",
       "       [0, 0, 10, 0, 12, 21, 8, 0, 0,\n",
       "        'Mid-Block (not related to intersection)', 0, 'Unknown',\n",
       "        'Unknown', 'N']], dtype=object)"
      ]
     },
     "execution_count": 29,
     "metadata": {},
     "output_type": "execute_result"
    }
   ],
   "source": [
    "le_speeding = preprocessing.LabelEncoder()\n",
    "le_speeding.fit(['N','Y'])\n",
    "X[:,3] = le_speeding.transform(X[:,3])\n",
    "X[0:5]"
   ]
  },
  {
   "cell_type": "code",
   "execution_count": 30,
   "metadata": {},
   "outputs": [
    {
     "data": {
      "text/plain": [
       "array([[0, 0, 1, 0, 23, 7, 5, 0, 0, 4, 11, 'Dry',\n",
       "        'Dark - Street Lights On', 'N'],\n",
       "       [0, 0, 10, 0, 18, 27, 3, 0, 0, 4, 16, 'Unknown', 'Unknown', 'N'],\n",
       "       [0, 0, 4, 0, 17, 17, 6, 0, 0, 1, 11, 'Dry', 'Daylight', 'N'],\n",
       "       [1, 0, 1, 0, 5, 30, 6, 0, 0, 4, 0, 'Dry', 'Daylight', 'N'],\n",
       "       [0, 0, 10, 0, 12, 21, 8, 0, 0, 4, 0, 'Unknown', 'Unknown', 'N']],\n",
       "      dtype=object)"
      ]
     },
     "execution_count": 30,
     "metadata": {},
     "output_type": "execute_result"
    }
   ],
   "source": [
    "le_junctiontype = preprocessing.LabelEncoder()\n",
    "le_junctiontype.fit(['Mid-Block (not related to intersection)','At Intersection (intersection related)',\\\n",
    "                     'Mid-Block (but intersection related)','Driveway Junction',\\\n",
    "                     'At Intersection (but not related to intersection)','Ramp Junction','Unknown'])\n",
    "X[:,9] = le_junctiontype.transform(X[:,9])\n",
    "X[0:5]"
   ]
  },
  {
   "cell_type": "code",
   "execution_count": 31,
   "metadata": {},
   "outputs": [
    {
     "data": {
      "text/plain": [
       "array([[0, 0, 1, 0, 23, 7, 5, 0, 0, 4, 11, 0, 'Dark - Street Lights On',\n",
       "        'N'],\n",
       "       [0, 0, 10, 0, 18, 27, 3, 0, 0, 4, 16, 7, 'Unknown', 'N'],\n",
       "       [0, 0, 4, 0, 17, 17, 6, 0, 0, 1, 11, 0, 'Daylight', 'N'],\n",
       "       [1, 0, 1, 0, 5, 30, 6, 0, 0, 4, 0, 0, 'Daylight', 'N'],\n",
       "       [0, 0, 10, 0, 12, 21, 8, 0, 0, 4, 0, 7, 'Unknown', 'N']],\n",
       "      dtype=object)"
      ]
     },
     "execution_count": 31,
     "metadata": {},
     "output_type": "execute_result"
    }
   ],
   "source": [
    "le_roadcond = preprocessing.LabelEncoder()\n",
    "le_roadcond.fit(['Dry','Wet','Unknown','Ice','Snow/Slush','Other','Standing Water','Sand/Mud/Dirt','Oil'])\n",
    "X[:,11] = le_roadcond.transform(X[:,11])\n",
    "X[0:5]"
   ]
  },
  {
   "cell_type": "code",
   "execution_count": 32,
   "metadata": {},
   "outputs": [
    {
     "data": {
      "text/plain": [
       "array([[0, 0, 1, 0, 23, 7, 5, 0, 0, 4, 11, 0, 2, 'N'],\n",
       "       [0, 0, 10, 0, 18, 27, 3, 0, 0, 4, 16, 7, 8, 'N'],\n",
       "       [0, 0, 4, 0, 17, 17, 6, 0, 0, 1, 11, 0, 5, 'N'],\n",
       "       [1, 0, 1, 0, 5, 30, 6, 0, 0, 4, 0, 0, 5, 'N'],\n",
       "       [0, 0, 10, 0, 12, 21, 8, 0, 0, 4, 0, 7, 8, 'N']], dtype=object)"
      ]
     },
     "execution_count": 32,
     "metadata": {},
     "output_type": "execute_result"
    }
   ],
   "source": [
    "le_lightcond = preprocessing.LabelEncoder()\n",
    "le_lightcond.fit(['Daylight','Dark - Street Lights On','Unknown','Dusk','Dawn','Dark - No Street Lights',\\\n",
    "                  'Dark - Street Lights Off','Other','Dark - Unknown Lighting'])\n",
    "X[:,12] = le_lightcond.transform(X[:,12])\n",
    "X[0:5]"
   ]
  },
  {
   "cell_type": "code",
   "execution_count": 33,
   "metadata": {},
   "outputs": [
    {
     "data": {
      "text/plain": [
       "array([[0, 0, 1, 0, 23, 7, 5, 0, 0, 4, 11, 0, 2, 0],\n",
       "       [0, 0, 10, 0, 18, 27, 3, 0, 0, 4, 16, 7, 8, 0],\n",
       "       [0, 0, 4, 0, 17, 17, 6, 0, 0, 1, 11, 0, 5, 0],\n",
       "       [1, 0, 1, 0, 5, 30, 6, 0, 0, 4, 0, 0, 5, 0],\n",
       "       [0, 0, 10, 0, 12, 21, 8, 0, 0, 4, 0, 7, 8, 0]], dtype=object)"
      ]
     },
     "execution_count": 33,
     "metadata": {},
     "output_type": "execute_result"
    }
   ],
   "source": [
    "le_pedrownotgrnt = preprocessing.LabelEncoder()\n",
    "le_pedrownotgrnt.fit(['N','Y'])\n",
    "X[:,13] = le_pedrownotgrnt.transform(X[:,13])\n",
    "X[0:5]"
   ]
  },
  {
   "cell_type": "code",
   "execution_count": 34,
   "metadata": {},
   "outputs": [
    {
     "data": {
      "text/plain": [
       "N    93460\n",
       "Y     3818\n",
       "Name: PEDROWNOTGRNT, dtype: int64"
      ]
     },
     "execution_count": 34,
     "metadata": {},
     "output_type": "execute_result"
    }
   ],
   "source": [
    "X_df['PEDROWNOTGRNT'].value_counts()"
   ]
  },
  {
   "cell_type": "markdown",
   "metadata": {},
   "source": [
    "## Fill Target Variable"
   ]
  },
  {
   "cell_type": "code",
   "execution_count": 35,
   "metadata": {},
   "outputs": [
    {
     "data": {
      "text/plain": [
       "SEVERITYCODE\n",
       "1    1\n",
       "1    1\n",
       "1    1\n",
       "1    1\n",
       "1    1\n",
       "Name: SEVERITYCODE.1, dtype: int64"
      ]
     },
     "execution_count": 35,
     "metadata": {},
     "output_type": "execute_result"
    }
   ],
   "source": [
    "y = df_bal['SEVERITYCODE.1']\n",
    "y.head()\n"
   ]
  },
  {
   "cell_type": "markdown",
   "metadata": {},
   "source": [
    "## Set up Decision Tree"
   ]
  },
  {
   "cell_type": "code",
   "execution_count": 36,
   "metadata": {},
   "outputs": [
    {
     "name": "stdout",
     "output_type": "stream",
     "text": [
      "(68094, 14)\n",
      "(68094,)\n"
     ]
    }
   ],
   "source": [
    "from sklearn.model_selection import train_test_split\n",
    "\n",
    "X_trainset, X_testset, y_trainset, y_testset = train_test_split(X, y, test_size=0.3, random_state=3)\n",
    "\n",
    "print(X_trainset.shape)\n",
    "print(y_trainset.shape)"
   ]
  },
  {
   "cell_type": "markdown",
   "metadata": {},
   "source": [
    "## Modeling the Decision Tree"
   ]
  },
  {
   "cell_type": "code",
   "execution_count": 37,
   "metadata": {},
   "outputs": [
    {
     "data": {
      "text/plain": [
       "DecisionTreeClassifier(class_weight=None, criterion='entropy', max_depth=20,\n",
       "                       max_features=None, max_leaf_nodes=None,\n",
       "                       min_impurity_decrease=0.0, min_impurity_split=None,\n",
       "                       min_samples_leaf=1, min_samples_split=2,\n",
       "                       min_weight_fraction_leaf=0.0, presort=False,\n",
       "                       random_state=None, splitter='best')"
      ]
     },
     "execution_count": 37,
     "metadata": {},
     "output_type": "execute_result"
    }
   ],
   "source": [
    "from sklearn.tree import DecisionTreeClassifier\n",
    "\n",
    "crashTree = DecisionTreeClassifier(criterion=\"entropy\", max_depth = 20)\n",
    "crashTree # it shows the default parameters"
   ]
  },
  {
   "cell_type": "code",
   "execution_count": 38,
   "metadata": {},
   "outputs": [
    {
     "data": {
      "text/plain": [
       "DecisionTreeClassifier(class_weight=None, criterion='entropy', max_depth=20,\n",
       "                       max_features=None, max_leaf_nodes=None,\n",
       "                       min_impurity_decrease=0.0, min_impurity_split=None,\n",
       "                       min_samples_leaf=1, min_samples_split=2,\n",
       "                       min_weight_fraction_leaf=0.0, presort=False,\n",
       "                       random_state=None, splitter='best')"
      ]
     },
     "execution_count": 38,
     "metadata": {},
     "output_type": "execute_result"
    }
   ],
   "source": [
    "# Fit the data with the training feature X_trainset and training response y_trainset\n",
    "crashTree.fit(X_trainset, y_trainset)"
   ]
  },
  {
   "cell_type": "markdown",
   "metadata": {},
   "source": [
    "## Prediction"
   ]
  },
  {
   "cell_type": "code",
   "execution_count": 39,
   "metadata": {},
   "outputs": [
    {
     "name": "stdout",
     "output_type": "stream",
     "text": [
      "[2 1 2 1 2]\n",
      "SEVERITYCODE\n",
      "2    2\n",
      "1    1\n",
      "2    2\n",
      "1    1\n",
      "1    1\n",
      "Name: SEVERITYCODE.1, dtype: int64\n"
     ]
    }
   ],
   "source": [
    "predTree = crashTree.predict(X_testset)\n",
    "\n",
    "print(predTree [0:5])\n",
    "print(y_testset [0:5])"
   ]
  },
  {
   "cell_type": "markdown",
   "metadata": {},
   "source": [
    "## Evaluation of Decision Tree"
   ]
  },
  {
   "cell_type": "code",
   "execution_count": 40,
   "metadata": {},
   "outputs": [
    {
     "name": "stdout",
     "output_type": "stream",
     "text": [
      "DecisionTrees's Accuracy:  0.6391858552631579\n"
     ]
    }
   ],
   "source": [
    "from sklearn import metrics\n",
    "import matplotlib.pyplot as plt\n",
    "print(\"DecisionTrees's Accuracy: \", metrics.accuracy_score(y_testset, predTree))"
   ]
  },
  {
   "cell_type": "code",
   "execution_count": 58,
   "metadata": {},
   "outputs": [
    {
     "name": "stdout",
     "output_type": "stream",
     "text": [
      "              precision    recall  f1-score   support\n",
      "\n",
      "           1       0.66      0.58      0.62     14630\n",
      "           2       0.62      0.70      0.66     14554\n",
      "\n",
      "    accuracy                           0.64     29184\n",
      "   macro avg       0.64      0.64      0.64     29184\n",
      "weighted avg       0.64      0.64      0.64     29184\n",
      "\n"
     ]
    }
   ],
   "source": [
    "print (classification_report(y_test, predTree))"
   ]
  },
  {
   "cell_type": "markdown",
   "metadata": {},
   "source": [
    "## Logistic Regression"
   ]
  },
  {
   "cell_type": "markdown",
   "metadata": {},
   "source": [
    "## First Normalize the Data Set"
   ]
  },
  {
   "cell_type": "code",
   "execution_count": 41,
   "metadata": {},
   "outputs": [
    {
     "data": {
      "text/plain": [
       "array([[-0.45635212, -0.18594401, -0.70836847, -0.2300877 ,  1.74763767,\n",
       "        -1.24758063, -0.45680584, -0.24375789, -0.21959625,  1.01409618,\n",
       "        -0.52800394, -0.67437788, -1.44450062, -0.20211804],\n",
       "       [-0.45635212, -0.18594401,  2.75670032, -0.2300877 ,  0.84628667,\n",
       "         1.18135288, -1.04268863, -0.24375789, -0.21959625,  1.01409618,\n",
       "         0.173671  ,  1.25989161,  2.29714517, -0.20211804],\n",
       "       [-0.45635212, -0.18594401,  0.44665446, -0.2300877 ,  0.66601647,\n",
       "        -0.03311388, -0.16386445, -0.24375789, -0.21959625, -1.13512491,\n",
       "        -0.52800394, -0.67437788,  0.42632228, -0.20211804],\n",
       "       [ 2.19129036, -0.18594401, -0.70836847, -0.2300877 , -1.49722595,\n",
       "         1.5456929 , -0.16386445, -0.24375789, -0.21959625,  1.01409618,\n",
       "        -2.07168881, -0.67437788,  0.42632228, -0.20211804],\n",
       "       [-0.45635212, -0.18594401,  2.75670032, -0.2300877 , -0.23533454,\n",
       "         0.45267283,  0.42201834, -0.24375789, -0.21959625,  1.01409618,\n",
       "        -2.07168881,  1.25989161,  2.29714517, -0.20211804]])"
      ]
     },
     "execution_count": 41,
     "metadata": {},
     "output_type": "execute_result"
    }
   ],
   "source": [
    "X_lr = preprocessing.StandardScaler().fit(X).transform(X)\n",
    "X_lr[0:5]"
   ]
  },
  {
   "cell_type": "markdown",
   "metadata": {},
   "source": [
    "## Train Test Split"
   ]
  },
  {
   "cell_type": "code",
   "execution_count": 42,
   "metadata": {},
   "outputs": [
    {
     "name": "stdout",
     "output_type": "stream",
     "text": [
      "Train set: (68094, 14) (68094,)\n",
      "Test set: (29184, 14) (29184,)\n"
     ]
    }
   ],
   "source": [
    "from sklearn.model_selection import train_test_split\n",
    "X_train, X_test, y_train, y_test = train_test_split( X_lr, y, test_size=0.3, random_state=3)\n",
    "print ('Train set:', X_train.shape,  y_train.shape)\n",
    "print ('Test set:', X_test.shape,  y_test.shape)"
   ]
  },
  {
   "cell_type": "markdown",
   "metadata": {},
   "source": [
    "## Modeling using Logistic Regression"
   ]
  },
  {
   "cell_type": "code",
   "execution_count": 43,
   "metadata": {},
   "outputs": [
    {
     "data": {
      "text/plain": [
       "LogisticRegression(C=0.01, class_weight=None, dual=False, fit_intercept=True,\n",
       "                   intercept_scaling=1, l1_ratio=None, max_iter=100,\n",
       "                   multi_class='warn', n_jobs=None, penalty='l2',\n",
       "                   random_state=None, solver='liblinear', tol=0.0001, verbose=0,\n",
       "                   warm_start=False)"
      ]
     },
     "execution_count": 43,
     "metadata": {},
     "output_type": "execute_result"
    }
   ],
   "source": [
    "from sklearn.linear_model import LogisticRegression\n",
    "from sklearn.metrics import confusion_matrix\n",
    "LR = LogisticRegression(C=0.01, solver='liblinear').fit(X_train,y_train)\n",
    "LR"
   ]
  },
  {
   "cell_type": "markdown",
   "metadata": {},
   "source": [
    "## Predict on the test set using Logistic Regression"
   ]
  },
  {
   "cell_type": "code",
   "execution_count": 44,
   "metadata": {},
   "outputs": [
    {
     "data": {
      "text/plain": [
       "array([2, 1, 2, ..., 2, 2, 1], dtype=int64)"
      ]
     },
     "execution_count": 44,
     "metadata": {},
     "output_type": "execute_result"
    }
   ],
   "source": [
    "yhat_lr = LR.predict(X_test)\n",
    "yhat_lr"
   ]
  },
  {
   "cell_type": "code",
   "execution_count": 45,
   "metadata": {},
   "outputs": [
    {
     "data": {
      "text/plain": [
       "array([[0.11238876, 0.88761124],\n",
       "       [0.65498174, 0.34501826],\n",
       "       [0.0450669 , 0.9549331 ],\n",
       "       ...,\n",
       "       [0.3879474 , 0.6120526 ],\n",
       "       [0.13600659, 0.86399341],\n",
       "       [0.53822053, 0.46177947]])"
      ]
     },
     "execution_count": 45,
     "metadata": {},
     "output_type": "execute_result"
    }
   ],
   "source": [
    "yhat_prob = LR.predict_proba(X_test)\n",
    "yhat_prob"
   ]
  },
  {
   "cell_type": "markdown",
   "metadata": {},
   "source": [
    "## Evaluation of Logistic Regression"
   ]
  },
  {
   "cell_type": "code",
   "execution_count": 46,
   "metadata": {},
   "outputs": [
    {
     "data": {
      "text/plain": [
       "0.4896224174780337"
      ]
     },
     "execution_count": 46,
     "metadata": {},
     "output_type": "execute_result"
    }
   ],
   "source": [
    "from sklearn.metrics import jaccard_score\n",
    "jaccard_score(y_test, yhat_lr)"
   ]
  },
  {
   "cell_type": "code",
   "execution_count": 47,
   "metadata": {},
   "outputs": [
    {
     "name": "stdout",
     "output_type": "stream",
     "text": [
      "              precision    recall  f1-score   support\n",
      "\n",
      "           1       0.62      0.70      0.66     14630\n",
      "           2       0.65      0.56      0.60     14554\n",
      "\n",
      "    accuracy                           0.63     29184\n",
      "   macro avg       0.63      0.63      0.63     29184\n",
      "weighted avg       0.63      0.63      0.63     29184\n",
      "\n"
     ]
    }
   ],
   "source": [
    "from sklearn.metrics import classification_report, confusion_matrix\n",
    "print (classification_report(y_test, yhat_lr))"
   ]
  },
  {
   "cell_type": "code",
   "execution_count": 48,
   "metadata": {},
   "outputs": [
    {
     "data": {
      "text/plain": [
       "0.6125456822361346"
      ]
     },
     "execution_count": 48,
     "metadata": {},
     "output_type": "execute_result"
    }
   ],
   "source": [
    "from sklearn.metrics import log_loss\n",
    "log_loss(y_test, yhat_prob)"
   ]
  },
  {
   "cell_type": "markdown",
   "metadata": {},
   "source": [
    "## Try SVM on the prediction of injury or property damage"
   ]
  },
  {
   "cell_type": "code",
   "execution_count": 49,
   "metadata": {},
   "outputs": [],
   "source": [
    "import pandas as pd\n",
    "import pylab as pl\n",
    "import numpy as np\n",
    "import scipy.optimize as opt\n",
    "from sklearn import preprocessing\n",
    "from sklearn.model_selection import train_test_split\n",
    "%matplotlib inline \n",
    "import matplotlib.pyplot as plt"
   ]
  },
  {
   "cell_type": "code",
   "execution_count": 50,
   "metadata": {},
   "outputs": [
    {
     "name": "stdout",
     "output_type": "stream",
     "text": [
      "Train set: (68094, 14) (68094,)\n",
      "Test set: (29184, 14) (29184,)\n"
     ]
    }
   ],
   "source": [
    "X_train, X_test, y_train, y_test = train_test_split( X, y, test_size=0.3, random_state=3)\n",
    "print ('Train set:', X_train.shape,  y_train.shape)\n",
    "print ('Test set:', X_test.shape,  y_test.shape)"
   ]
  },
  {
   "cell_type": "code",
   "execution_count": 51,
   "metadata": {},
   "outputs": [
    {
     "name": "stderr",
     "output_type": "stream",
     "text": [
      "C:\\Users\\andyclark\\Anaconda3\\lib\\site-packages\\sklearn\\svm\\base.py:193: FutureWarning: The default value of gamma will change from 'auto' to 'scale' in version 0.22 to account better for unscaled features. Set gamma explicitly to 'auto' or 'scale' to avoid this warning.\n",
      "  \"avoid this warning.\", FutureWarning)\n"
     ]
    },
    {
     "data": {
      "text/plain": [
       "SVC(C=1.0, cache_size=200, class_weight=None, coef0=0.0,\n",
       "    decision_function_shape='ovr', degree=3, gamma='auto_deprecated',\n",
       "    kernel='rbf', max_iter=-1, probability=False, random_state=None,\n",
       "    shrinking=True, tol=0.001, verbose=False)"
      ]
     },
     "execution_count": 51,
     "metadata": {},
     "output_type": "execute_result"
    }
   ],
   "source": [
    "from sklearn import svm\n",
    "clf = svm.SVC(kernel='rbf')\n",
    "clf.fit(X_train, y_train) "
   ]
  },
  {
   "cell_type": "markdown",
   "metadata": {},
   "source": [
    "## Evaluation of SVM  'rbf'"
   ]
  },
  {
   "cell_type": "code",
   "execution_count": 52,
   "metadata": {},
   "outputs": [],
   "source": [
    "from sklearn.metrics import classification_report\n",
    "import itertools"
   ]
  },
  {
   "cell_type": "code",
   "execution_count": 53,
   "metadata": {
    "scrolled": true
   },
   "outputs": [
    {
     "name": "stdout",
     "output_type": "stream",
     "text": [
      "              precision    recall  f1-score   support\n",
      "\n",
      "           1       0.65      0.60      0.62     14630\n",
      "           2       0.63      0.67      0.65     14554\n",
      "\n",
      "    accuracy                           0.64     29184\n",
      "   macro avg       0.64      0.64      0.64     29184\n",
      "weighted avg       0.64      0.64      0.63     29184\n",
      "\n"
     ]
    }
   ],
   "source": [
    "yhat = clf.predict(X_test)\n",
    "print (classification_report(y_test, yhat))"
   ]
  },
  {
   "cell_type": "code",
   "execution_count": 54,
   "metadata": {
    "scrolled": true
   },
   "outputs": [
    {
     "name": "stdout",
     "output_type": "stream",
     "text": [
      "              precision    recall  f1-score   support\n",
      "\n",
      "           1       0.62      0.65      0.64     14630\n",
      "           2       0.63      0.60      0.62     14554\n",
      "\n",
      "    accuracy                           0.63     29184\n",
      "   macro avg       0.63      0.63      0.63     29184\n",
      "weighted avg       0.63      0.63      0.63     29184\n",
      "\n"
     ]
    }
   ],
   "source": [
    "clf2 = svm.SVC(kernel='linear')\n",
    "clf2.fit(X_train, y_train) \n",
    "yhat2 = clf2.predict(X_test)\n",
    "print (classification_report(y_test, yhat2))"
   ]
  },
  {
   "cell_type": "code",
   "execution_count": 55,
   "metadata": {},
   "outputs": [
    {
     "name": "stdout",
     "output_type": "stream",
     "text": [
      "              precision    recall  f1-score   support\n",
      "\n",
      "           1       0.62      0.67      0.65     14630\n",
      "           2       0.64      0.59      0.62     14554\n",
      "\n",
      "    accuracy                           0.63     29184\n",
      "   macro avg       0.63      0.63      0.63     29184\n",
      "weighted avg       0.63      0.63      0.63     29184\n",
      "\n"
     ]
    }
   ],
   "source": [
    "clf3 = svm.SVC(kernel='poly', gamma = 'scale')\n",
    "clf3.fit(X_train, y_train) \n",
    "yhat3 = clf3.predict(X_test)\n",
    "print (classification_report(y_test, yhat3))"
   ]
  },
  {
   "cell_type": "code",
   "execution_count": 56,
   "metadata": {
    "scrolled": false
   },
   "outputs": [
    {
     "name": "stdout",
     "output_type": "stream",
     "text": [
      "Root Mean Squared Error SVM rbf: 0.6037789893516138\n",
      "Root Mean Squared Error SVM linear: 0.6101582067633785\n",
      "Root Mean Squared Error SVM poly: 0.6061861288474173\n",
      "Root Mean Squared Error LR: 0.606807597617495\n",
      "Root Mean Squared Error Tree: 0.6006780707973632\n"
     ]
    }
   ],
   "source": [
    "print('Root Mean Squared Error SVM rbf:', np.sqrt(metrics.mean_squared_error(y_test, yhat)))\n",
    "print('Root Mean Squared Error SVM linear:', np.sqrt(metrics.mean_squared_error(y_test, yhat2)))\n",
    "print('Root Mean Squared Error SVM poly:', np.sqrt(metrics.mean_squared_error(y_test, yhat3)))\n",
    "print('Root Mean Squared Error LR:', np.sqrt(metrics.mean_squared_error(y_test, yhat_lr)))\n",
    "print('Root Mean Squared Error Tree:', np.sqrt(metrics.mean_squared_error(y_test, predTree)))"
   ]
  }
 ],
 "metadata": {
  "kernelspec": {
   "display_name": "Python 3",
   "language": "python",
   "name": "python3"
  },
  "language_info": {
   "codemirror_mode": {
    "name": "ipython",
    "version": 3
   },
   "file_extension": ".py",
   "mimetype": "text/x-python",
   "name": "python",
   "nbconvert_exporter": "python",
   "pygments_lexer": "ipython3",
   "version": "3.7.4"
  }
 },
 "nbformat": 4,
 "nbformat_minor": 4
}
